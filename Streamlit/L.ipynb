{
 "cells": [
  {
   "cell_type": "code",
   "execution_count": 3,
   "metadata": {},
   "outputs": [
    {
     "name": "stdout",
     "output_type": "stream",
     "text": [
      "zsh:cd:1: no such file or directory: Streamlit/\n",
      "\u001b[0m\n",
      "\u001b[34m\u001b[1m  You can now view your Streamlit app in your browser.\u001b[0m\n",
      "\u001b[0m\n",
      "\u001b[34m  Local URL: \u001b[0m\u001b[1mhttp://localhost:8501\u001b[0m\n",
      "\u001b[34m  Network URL: \u001b[0m\u001b[1mhttp://192.168.0.227:8501\u001b[0m\n",
      "\u001b[0m\n",
      "\u001b[34m\u001b[1m  For better performance, install the Watchdog module:\u001b[0m\n",
      "\n",
      "  $ xcode-select --install\n",
      "  $ pip install watchdog\n",
      "            \u001b[0m\n",
      "2023-07-06 23:19:04.602 Uncaught app exception\n",
      "Traceback (most recent call last):\n",
      "  File \"/Users/german/Documents/Learning/Python3/Coding/DHBW/Streamlit Lern Web-App/venv/lib/python3.11/site-packages/streamlit/runtime/scriptrunner/script_runner.py\", line 552, in _run_script\n",
      "    exec(code, module.__dict__)\n",
      "  File \"/Users/german/Documents/Learning/Python3/Coding/DHBW/Streamlit Lern Web-App/Streamlit/🏠_Home.py\", line 65, in <module>\n",
      "    local_css(\"style.css\")\n",
      "  File \"/Users/german/Documents/Learning/Python3/Coding/DHBW/Streamlit Lern Web-App/Streamlit/🏠_Home.py\", line 15, in local_css\n",
      "    with open(file_name) as f:\n",
      "         ^^^^^^^^^^^^^^^\n",
      "FileNotFoundError: [Errno 2] No such file or directory: 'style.css'\n",
      "2023-07-06 23:19:11.694 Uncaught app exception\n",
      "Traceback (most recent call last):\n",
      "  File \"/Users/german/Documents/Learning/Python3/Coding/DHBW/Streamlit Lern Web-App/venv/lib/python3.11/site-packages/streamlit/runtime/scriptrunner/script_runner.py\", line 552, in _run_script\n",
      "    exec(code, module.__dict__)\n",
      "  File \"/Users/german/Documents/Learning/Python3/Coding/DHBW/Streamlit Lern Web-App/Streamlit/🏠_Home.py\", line 65, in <module>\n",
      "    local_css(\"style.css\")\n",
      "  File \"/Users/german/Documents/Learning/Python3/Coding/DHBW/Streamlit Lern Web-App/Streamlit/🏠_Home.py\", line 15, in local_css\n",
      "    with open(file_name) as f:\n",
      "         ^^^^^^^^^^^^^^^\n",
      "FileNotFoundError: [Errno 2] No such file or directory: 'style.css'\n"
     ]
    }
   ],
   "source": [
    "!cd Streamlit/\n",
    "!streamlit run 🏠_Home.py\n",
    "!cd .."
   ]
  },
  {
   "cell_type": "code",
   "execution_count": null,
   "metadata": {},
   "outputs": [],
   "source": []
  }
 ],
 "metadata": {
  "kernelspec": {
   "display_name": "Python 3",
   "language": "python",
   "name": "python3"
  },
  "language_info": {
   "codemirror_mode": {
    "name": "ipython",
    "version": 3
   },
   "file_extension": ".py",
   "mimetype": "text/x-python",
   "name": "python",
   "nbconvert_exporter": "python",
   "pygments_lexer": "ipython3",
   "version": "3.11.4"
  },
  "orig_nbformat": 4
 },
 "nbformat": 4,
 "nbformat_minor": 2
}
